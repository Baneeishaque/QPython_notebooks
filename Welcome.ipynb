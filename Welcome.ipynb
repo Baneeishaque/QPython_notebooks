{
 "cells": [
  {
   "cell_type": "markdown",
   "metadata": {},
   "source": [
    "\n",
    "\n",
    "## Welcome to use the QPython Notebook service!\n",
    "\n",
    "This Notebook Service was **launched just for you**. It's a temporary way for you to try out a recent development version of the IPython/Jupyter notebook.\n",
    "\n",
    "\n",
    "Thanks to [Jupyter](http://jupyter.org), [IPython](http://ipython.org/) etc., QPython Notebook is built based on these excellent opensource projects.\n"
   ]
  },
  {
   "cell_type": "markdown",
   "metadata": {},
   "source": [
    "### Run some Python code!\n",
    "\n",
    "To run the code below:\n",
    "\n",
    "1. Click on the cell to select it.\n",
    "2. Press the play button (<button class='fa fa-play icon-play btn btn-xs btn-default'></button>) in the toolbar bottom.\n",
    "\n",
    "A full tutorial for using the QPython Notebook interface is available [here](http://edu.qpython.org/qpython-quick-start/notebook.html)."
   ]
  },
  {
   "cell_type": "code",
   "execution_count": 1,
   "metadata": {
    "pycharm": {
     "is_executing": false
    }
   },
   "outputs": [
    {
     "name": "stdout",
     "text": [
      "1565091617.1809497\n"
     ],
     "output_type": "stream"
    }
   ],
   "source": [
    "import time\n",
    "print(time.time())"
   ]
  },
  {
   "cell_type": "code",
   "execution_count": 4,
   "metadata": {},
   "outputs": [],
   "source": [
    "import androidhelper\n",
    "droid = androidhelper.Android()"
   ]
  },
  {
   "cell_type": "code",
   "execution_count": 5,
   "metadata": {},
   "outputs": [],
   "source": [
    "line = droid.dialogGetInput()"
   ]
  },
  {
   "cell_type": "code",
   "execution_count": 6,
   "metadata": {},
   "outputs": [
    {
     "data": {
      "text/plain": [
       "Result(id=2, result=None, error=None)"
      ]
     },
     "execution_count": 6,
     "metadata": {},
     "output_type": "execute_result"
    }
   ],
   "source": [
    "s = \"Hello, %s\" % (line.result,)\n",
    "droid.makeToast(s)"
   ]
  },
  {
   "cell_type": "markdown",
   "metadata": {},
   "source": [
    "Feel free to explor other funny things on your QPython, and we will develop more useful features based on QPython Notebook."
   ]
  }
 ],
 "metadata": {
  "kernelspec": {
   "display_name": "Python 3",
   "language": "python",
   "name": "python3"
  },
  "language_info": {
   "codemirror_mode": {
    "name": "ipython",
    "version": 3
   },
   "file_extension": ".py",
   "mimetype": "text/x-python",
   "name": "python",
   "nbconvert_exporter": "python",
   "pygments_lexer": "ipython3",
   "version": "3.6.6"
  }
 },
 "nbformat": 4,
 "nbformat_minor": 1
}
